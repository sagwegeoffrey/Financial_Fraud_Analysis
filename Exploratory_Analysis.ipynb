{
 "cells": [
  {
   "cell_type": "markdown",
   "id": "7b4d6c25",
   "metadata": {},
   "source": [
    "## Exploratory Analysis"
   ]
  },
  {
   "cell_type": "raw",
   "id": "f4ea4ff8",
   "metadata": {},
   "source": [
    "  1  Data profiling\n",
    "  2  Outliners\n",
    "  3  Abnormal transactions"
   ]
  },
  {
   "cell_type": "code",
   "execution_count": 56,
   "id": "010f7d95",
   "metadata": {},
   "outputs": [],
   "source": [
    "import numpy as np\n",
    "import pandas as pd\n",
    "import seaborn as sns\n",
    "import matplotlib.pyplot as plt\n",
    "%matplotlib inline"
   ]
  },
  {
   "cell_type": "code",
   "execution_count": 57,
   "id": "30eb21d6",
   "metadata": {},
   "outputs": [],
   "source": [
    "df = pd.read_csv(r'C:\\Users\\DR SAGWE\\Documents\\creditsampledata.csv')"
   ]
  },
  {
   "cell_type": "code",
   "execution_count": 58,
   "id": "f9034412",
   "metadata": {},
   "outputs": [
    {
     "data": {
      "text/html": [
       "<div>\n",
       "<style scoped>\n",
       "    .dataframe tbody tr th:only-of-type {\n",
       "        vertical-align: middle;\n",
       "    }\n",
       "\n",
       "    .dataframe tbody tr th {\n",
       "        vertical-align: top;\n",
       "    }\n",
       "\n",
       "    .dataframe thead th {\n",
       "        text-align: right;\n",
       "    }\n",
       "</style>\n",
       "<table border=\"1\" class=\"dataframe\">\n",
       "  <thead>\n",
       "    <tr style=\"text-align: right;\">\n",
       "      <th></th>\n",
       "      <th>Unnamed: 0</th>\n",
       "      <th>Time</th>\n",
       "      <th>V1</th>\n",
       "      <th>V2</th>\n",
       "      <th>V3</th>\n",
       "      <th>V4</th>\n",
       "      <th>V5</th>\n",
       "      <th>V6</th>\n",
       "      <th>V7</th>\n",
       "      <th>V8</th>\n",
       "      <th>...</th>\n",
       "      <th>V21</th>\n",
       "      <th>V22</th>\n",
       "      <th>V23</th>\n",
       "      <th>V24</th>\n",
       "      <th>V25</th>\n",
       "      <th>V26</th>\n",
       "      <th>V27</th>\n",
       "      <th>V28</th>\n",
       "      <th>Amount</th>\n",
       "      <th>Class</th>\n",
       "    </tr>\n",
       "  </thead>\n",
       "  <tbody>\n",
       "    <tr>\n",
       "      <th>0</th>\n",
       "      <td>0</td>\n",
       "      <td>64</td>\n",
       "      <td>1.212511</td>\n",
       "      <td>-0.099054</td>\n",
       "      <td>-1.192094</td>\n",
       "      <td>0.286324</td>\n",
       "      <td>2.160516</td>\n",
       "      <td>3.616314</td>\n",
       "      <td>-0.404207</td>\n",
       "      <td>0.842331</td>\n",
       "      <td>...</td>\n",
       "      <td>-0.167496</td>\n",
       "      <td>-0.494695</td>\n",
       "      <td>-0.149785</td>\n",
       "      <td>1.011227</td>\n",
       "      <td>0.883548</td>\n",
       "      <td>-0.329434</td>\n",
       "      <td>0.020370</td>\n",
       "      <td>0.017037</td>\n",
       "      <td>34.70</td>\n",
       "      <td>0</td>\n",
       "    </tr>\n",
       "    <tr>\n",
       "      <th>1</th>\n",
       "      <td>1</td>\n",
       "      <td>64</td>\n",
       "      <td>-0.658305</td>\n",
       "      <td>0.406791</td>\n",
       "      <td>2.037461</td>\n",
       "      <td>-0.291298</td>\n",
       "      <td>0.147910</td>\n",
       "      <td>-0.350857</td>\n",
       "      <td>0.945373</td>\n",
       "      <td>-0.172560</td>\n",
       "      <td>...</td>\n",
       "      <td>-0.156096</td>\n",
       "      <td>-0.238805</td>\n",
       "      <td>0.089877</td>\n",
       "      <td>0.421195</td>\n",
       "      <td>-0.352487</td>\n",
       "      <td>0.074783</td>\n",
       "      <td>-0.094192</td>\n",
       "      <td>-0.092493</td>\n",
       "      <td>54.99</td>\n",
       "      <td>0</td>\n",
       "    </tr>\n",
       "    <tr>\n",
       "      <th>2</th>\n",
       "      <td>2</td>\n",
       "      <td>124</td>\n",
       "      <td>1.105253</td>\n",
       "      <td>0.541842</td>\n",
       "      <td>0.839421</td>\n",
       "      <td>2.570933</td>\n",
       "      <td>-0.279517</td>\n",
       "      <td>-0.423062</td>\n",
       "      <td>0.088019</td>\n",
       "      <td>0.011622</td>\n",
       "      <td>...</td>\n",
       "      <td>-0.137434</td>\n",
       "      <td>-0.460991</td>\n",
       "      <td>0.189397</td>\n",
       "      <td>0.556329</td>\n",
       "      <td>0.185786</td>\n",
       "      <td>-0.189030</td>\n",
       "      <td>0.000208</td>\n",
       "      <td>0.026167</td>\n",
       "      <td>6.24</td>\n",
       "      <td>0</td>\n",
       "    </tr>\n",
       "    <tr>\n",
       "      <th>3</th>\n",
       "      <td>3</td>\n",
       "      <td>128</td>\n",
       "      <td>1.239495</td>\n",
       "      <td>-0.182609</td>\n",
       "      <td>0.155058</td>\n",
       "      <td>-0.928892</td>\n",
       "      <td>-0.746227</td>\n",
       "      <td>-1.235608</td>\n",
       "      <td>-0.061695</td>\n",
       "      <td>-0.125223</td>\n",
       "      <td>...</td>\n",
       "      <td>0.146077</td>\n",
       "      <td>0.481119</td>\n",
       "      <td>-0.140019</td>\n",
       "      <td>0.538261</td>\n",
       "      <td>0.710720</td>\n",
       "      <td>-0.621382</td>\n",
       "      <td>0.036867</td>\n",
       "      <td>0.010963</td>\n",
       "      <td>8.80</td>\n",
       "      <td>0</td>\n",
       "    </tr>\n",
       "    <tr>\n",
       "      <th>4</th>\n",
       "      <td>4</td>\n",
       "      <td>132</td>\n",
       "      <td>-1.571359</td>\n",
       "      <td>1.687508</td>\n",
       "      <td>0.734670</td>\n",
       "      <td>1.293350</td>\n",
       "      <td>-0.217532</td>\n",
       "      <td>-0.002677</td>\n",
       "      <td>0.147364</td>\n",
       "      <td>0.515362</td>\n",
       "      <td>...</td>\n",
       "      <td>0.048549</td>\n",
       "      <td>0.377256</td>\n",
       "      <td>-0.030436</td>\n",
       "      <td>0.117608</td>\n",
       "      <td>-0.060520</td>\n",
       "      <td>-0.296550</td>\n",
       "      <td>-0.481570</td>\n",
       "      <td>-0.167897</td>\n",
       "      <td>10.00</td>\n",
       "      <td>0</td>\n",
       "    </tr>\n",
       "  </tbody>\n",
       "</table>\n",
       "<p>5 rows × 32 columns</p>\n",
       "</div>"
      ],
      "text/plain": [
       "   Unnamed: 0  Time        V1        V2        V3        V4        V5  \\\n",
       "0           0    64  1.212511 -0.099054 -1.192094  0.286324  2.160516   \n",
       "1           1    64 -0.658305  0.406791  2.037461 -0.291298  0.147910   \n",
       "2           2   124  1.105253  0.541842  0.839421  2.570933 -0.279517   \n",
       "3           3   128  1.239495 -0.182609  0.155058 -0.928892 -0.746227   \n",
       "4           4   132 -1.571359  1.687508  0.734670  1.293350 -0.217532   \n",
       "\n",
       "         V6        V7        V8  ...       V21       V22       V23       V24  \\\n",
       "0  3.616314 -0.404207  0.842331  ... -0.167496 -0.494695 -0.149785  1.011227   \n",
       "1 -0.350857  0.945373 -0.172560  ... -0.156096 -0.238805  0.089877  0.421195   \n",
       "2 -0.423062  0.088019  0.011622  ... -0.137434 -0.460991  0.189397  0.556329   \n",
       "3 -1.235608 -0.061695 -0.125223  ...  0.146077  0.481119 -0.140019  0.538261   \n",
       "4 -0.002677  0.147364  0.515362  ...  0.048549  0.377256 -0.030436  0.117608   \n",
       "\n",
       "        V25       V26       V27       V28  Amount  Class  \n",
       "0  0.883548 -0.329434  0.020370  0.017037   34.70      0  \n",
       "1 -0.352487  0.074783 -0.094192 -0.092493   54.99      0  \n",
       "2  0.185786 -0.189030  0.000208  0.026167    6.24      0  \n",
       "3  0.710720 -0.621382  0.036867  0.010963    8.80      0  \n",
       "4 -0.060520 -0.296550 -0.481570 -0.167897   10.00      0  \n",
       "\n",
       "[5 rows x 32 columns]"
      ]
     },
     "execution_count": 58,
     "metadata": {},
     "output_type": "execute_result"
    }
   ],
   "source": [
    "df.head()"
   ]
  },
  {
   "cell_type": "markdown",
   "id": "99bfbc9a",
   "metadata": {},
   "source": [
    "### Data profiling"
   ]
  },
  {
   "cell_type": "code",
   "execution_count": 59,
   "id": "c7011e19",
   "metadata": {},
   "outputs": [
    {
     "data": {
      "text/plain": [
       "Unnamed: 0    8000\n",
       "Time          7776\n",
       "V1            7964\n",
       "V2            7964\n",
       "V3            7964\n",
       "V4            7964\n",
       "V5            7964\n",
       "V6            7964\n",
       "V7            7963\n",
       "V8            7964\n",
       "V9            7964\n",
       "V10           7964\n",
       "V11           7964\n",
       "V12           7964\n",
       "V13           7964\n",
       "V14           7964\n",
       "V15           7964\n",
       "V16           7964\n",
       "V17           7964\n",
       "V18           7964\n",
       "V19           7964\n",
       "V20           7964\n",
       "V21           7964\n",
       "V22           7964\n",
       "V23           7964\n",
       "V24           7964\n",
       "V25           7964\n",
       "V26           7964\n",
       "V27           7964\n",
       "V28           7964\n",
       "Amount        3639\n",
       "Class            2\n",
       "dtype: int64"
      ]
     },
     "execution_count": 59,
     "metadata": {},
     "output_type": "execute_result"
    }
   ],
   "source": [
    "df.nunique()"
   ]
  },
  {
   "cell_type": "code",
   "execution_count": 60,
   "id": "5312d22e",
   "metadata": {},
   "outputs": [
    {
     "name": "stdout",
     "output_type": "stream",
     "text": [
      "<class 'pandas.core.frame.DataFrame'>\n",
      "RangeIndex: 8000 entries, 0 to 7999\n",
      "Data columns (total 32 columns):\n",
      " #   Column      Non-Null Count  Dtype  \n",
      "---  ------      --------------  -----  \n",
      " 0   Unnamed: 0  8000 non-null   int64  \n",
      " 1   Time        8000 non-null   int64  \n",
      " 2   V1          8000 non-null   float64\n",
      " 3   V2          8000 non-null   float64\n",
      " 4   V3          8000 non-null   float64\n",
      " 5   V4          8000 non-null   float64\n",
      " 6   V5          8000 non-null   float64\n",
      " 7   V6          8000 non-null   float64\n",
      " 8   V7          8000 non-null   float64\n",
      " 9   V8          8000 non-null   float64\n",
      " 10  V9          8000 non-null   float64\n",
      " 11  V10         8000 non-null   float64\n",
      " 12  V11         8000 non-null   float64\n",
      " 13  V12         8000 non-null   float64\n",
      " 14  V13         8000 non-null   float64\n",
      " 15  V14         8000 non-null   float64\n",
      " 16  V15         8000 non-null   float64\n",
      " 17  V16         8000 non-null   float64\n",
      " 18  V17         8000 non-null   float64\n",
      " 19  V18         8000 non-null   float64\n",
      " 20  V19         8000 non-null   float64\n",
      " 21  V20         8000 non-null   float64\n",
      " 22  V21         8000 non-null   float64\n",
      " 23  V22         8000 non-null   float64\n",
      " 24  V23         8000 non-null   float64\n",
      " 25  V24         8000 non-null   float64\n",
      " 26  V25         8000 non-null   float64\n",
      " 27  V26         8000 non-null   float64\n",
      " 28  V27         8000 non-null   float64\n",
      " 29  V28         8000 non-null   float64\n",
      " 30  Amount      8000 non-null   float64\n",
      " 31  Class       8000 non-null   int64  \n",
      "dtypes: float64(29), int64(3)\n",
      "memory usage: 2.0 MB\n"
     ]
    }
   ],
   "source": [
    "df.info()"
   ]
  },
  {
   "cell_type": "code",
   "execution_count": 61,
   "id": "fd018ff4",
   "metadata": {},
   "outputs": [
    {
     "data": {
      "text/html": [
       "<div>\n",
       "<style scoped>\n",
       "    .dataframe tbody tr th:only-of-type {\n",
       "        vertical-align: middle;\n",
       "    }\n",
       "\n",
       "    .dataframe tbody tr th {\n",
       "        vertical-align: top;\n",
       "    }\n",
       "\n",
       "    .dataframe thead th {\n",
       "        text-align: right;\n",
       "    }\n",
       "</style>\n",
       "<table border=\"1\" class=\"dataframe\">\n",
       "  <thead>\n",
       "    <tr style=\"text-align: right;\">\n",
       "      <th></th>\n",
       "      <th>Unnamed: 0</th>\n",
       "      <th>Time</th>\n",
       "      <th>V1</th>\n",
       "      <th>V2</th>\n",
       "      <th>V3</th>\n",
       "      <th>V4</th>\n",
       "      <th>V5</th>\n",
       "      <th>V6</th>\n",
       "      <th>V7</th>\n",
       "      <th>V8</th>\n",
       "      <th>...</th>\n",
       "      <th>V21</th>\n",
       "      <th>V22</th>\n",
       "      <th>V23</th>\n",
       "      <th>V24</th>\n",
       "      <th>V25</th>\n",
       "      <th>V26</th>\n",
       "      <th>V27</th>\n",
       "      <th>V28</th>\n",
       "      <th>Amount</th>\n",
       "      <th>Class</th>\n",
       "    </tr>\n",
       "  </thead>\n",
       "  <tbody>\n",
       "    <tr>\n",
       "      <th>count</th>\n",
       "      <td>8000.00000</td>\n",
       "      <td>8000.000000</td>\n",
       "      <td>8000.000000</td>\n",
       "      <td>8000.000000</td>\n",
       "      <td>8000.000000</td>\n",
       "      <td>8000.000000</td>\n",
       "      <td>8000.000000</td>\n",
       "      <td>8000.000000</td>\n",
       "      <td>8000.000000</td>\n",
       "      <td>8000.000000</td>\n",
       "      <td>...</td>\n",
       "      <td>8000.000000</td>\n",
       "      <td>8000.000000</td>\n",
       "      <td>8000.000000</td>\n",
       "      <td>8000.000000</td>\n",
       "      <td>8000.000000</td>\n",
       "      <td>8000.000000</td>\n",
       "      <td>8000.000000</td>\n",
       "      <td>8000.000000</td>\n",
       "      <td>8000.000000</td>\n",
       "      <td>8000.000000</td>\n",
       "    </tr>\n",
       "    <tr>\n",
       "      <th>mean</th>\n",
       "      <td>3999.50000</td>\n",
       "      <td>95357.290375</td>\n",
       "      <td>0.016628</td>\n",
       "      <td>-0.005726</td>\n",
       "      <td>-0.010398</td>\n",
       "      <td>-0.028731</td>\n",
       "      <td>-0.022065</td>\n",
       "      <td>0.000739</td>\n",
       "      <td>0.016121</td>\n",
       "      <td>-0.004941</td>\n",
       "      <td>...</td>\n",
       "      <td>-0.003501</td>\n",
       "      <td>0.028278</td>\n",
       "      <td>0.006422</td>\n",
       "      <td>-0.000855</td>\n",
       "      <td>-0.000284</td>\n",
       "      <td>0.000740</td>\n",
       "      <td>-0.006161</td>\n",
       "      <td>0.005893</td>\n",
       "      <td>89.669246</td>\n",
       "      <td>0.002125</td>\n",
       "    </tr>\n",
       "    <tr>\n",
       "      <th>std</th>\n",
       "      <td>2309.54541</td>\n",
       "      <td>46956.240862</td>\n",
       "      <td>1.899212</td>\n",
       "      <td>1.545809</td>\n",
       "      <td>1.477050</td>\n",
       "      <td>1.426184</td>\n",
       "      <td>1.401964</td>\n",
       "      <td>1.332905</td>\n",
       "      <td>1.305012</td>\n",
       "      <td>1.174568</td>\n",
       "      <td>...</td>\n",
       "      <td>0.678019</td>\n",
       "      <td>0.714746</td>\n",
       "      <td>0.553929</td>\n",
       "      <td>0.606846</td>\n",
       "      <td>0.513374</td>\n",
       "      <td>0.485101</td>\n",
       "      <td>0.394584</td>\n",
       "      <td>0.348770</td>\n",
       "      <td>260.188804</td>\n",
       "      <td>0.046052</td>\n",
       "    </tr>\n",
       "    <tr>\n",
       "      <th>min</th>\n",
       "      <td>0.00000</td>\n",
       "      <td>64.000000</td>\n",
       "      <td>-29.973363</td>\n",
       "      <td>-29.198899</td>\n",
       "      <td>-19.947726</td>\n",
       "      <td>-5.416315</td>\n",
       "      <td>-40.427726</td>\n",
       "      <td>-7.810116</td>\n",
       "      <td>-21.234463</td>\n",
       "      <td>-26.069936</td>\n",
       "      <td>...</td>\n",
       "      <td>-13.950186</td>\n",
       "      <td>-4.910197</td>\n",
       "      <td>-12.667179</td>\n",
       "      <td>-2.814898</td>\n",
       "      <td>-3.223535</td>\n",
       "      <td>-1.511259</td>\n",
       "      <td>-5.809357</td>\n",
       "      <td>-3.693525</td>\n",
       "      <td>0.000000</td>\n",
       "      <td>0.000000</td>\n",
       "    </tr>\n",
       "    <tr>\n",
       "      <th>25%</th>\n",
       "      <td>1999.75000</td>\n",
       "      <td>55189.750000</td>\n",
       "      <td>-0.915243</td>\n",
       "      <td>-0.610001</td>\n",
       "      <td>-0.893566</td>\n",
       "      <td>-0.903137</td>\n",
       "      <td>-0.714806</td>\n",
       "      <td>-0.790640</td>\n",
       "      <td>-0.560447</td>\n",
       "      <td>-0.215935</td>\n",
       "      <td>...</td>\n",
       "      <td>-0.221765</td>\n",
       "      <td>-0.519427</td>\n",
       "      <td>-0.159989</td>\n",
       "      <td>-0.345288</td>\n",
       "      <td>-0.311490</td>\n",
       "      <td>-0.327823</td>\n",
       "      <td>-0.071358</td>\n",
       "      <td>-0.052957</td>\n",
       "      <td>5.990000</td>\n",
       "      <td>0.000000</td>\n",
       "    </tr>\n",
       "    <tr>\n",
       "      <th>50%</th>\n",
       "      <td>3999.50000</td>\n",
       "      <td>85758.000000</td>\n",
       "      <td>0.025737</td>\n",
       "      <td>0.040064</td>\n",
       "      <td>0.165369</td>\n",
       "      <td>-0.035525</td>\n",
       "      <td>-0.076317</td>\n",
       "      <td>-0.282476</td>\n",
       "      <td>0.043119</td>\n",
       "      <td>0.019278</td>\n",
       "      <td>...</td>\n",
       "      <td>-0.026597</td>\n",
       "      <td>0.031274</td>\n",
       "      <td>-0.008716</td>\n",
       "      <td>0.038126</td>\n",
       "      <td>0.023790</td>\n",
       "      <td>-0.061720</td>\n",
       "      <td>0.000514</td>\n",
       "      <td>0.011239</td>\n",
       "      <td>22.855000</td>\n",
       "      <td>0.000000</td>\n",
       "    </tr>\n",
       "    <tr>\n",
       "      <th>75%</th>\n",
       "      <td>5999.25000</td>\n",
       "      <td>139042.750000</td>\n",
       "      <td>1.321858</td>\n",
       "      <td>0.784179</td>\n",
       "      <td>0.991859</td>\n",
       "      <td>0.752604</td>\n",
       "      <td>0.601602</td>\n",
       "      <td>0.403259</td>\n",
       "      <td>0.581711</td>\n",
       "      <td>0.331131</td>\n",
       "      <td>...</td>\n",
       "      <td>0.191495</td>\n",
       "      <td>0.549468</td>\n",
       "      <td>0.144751</td>\n",
       "      <td>0.440633</td>\n",
       "      <td>0.344371</td>\n",
       "      <td>0.246298</td>\n",
       "      <td>0.086333</td>\n",
       "      <td>0.076835</td>\n",
       "      <td>78.432500</td>\n",
       "      <td>0.000000</td>\n",
       "    </tr>\n",
       "    <tr>\n",
       "      <th>max</th>\n",
       "      <td>7999.00000</td>\n",
       "      <td>172766.000000</td>\n",
       "      <td>2.373022</td>\n",
       "      <td>11.447082</td>\n",
       "      <td>3.985446</td>\n",
       "      <td>9.074932</td>\n",
       "      <td>13.815072</td>\n",
       "      <td>23.917837</td>\n",
       "      <td>44.054461</td>\n",
       "      <td>9.561121</td>\n",
       "      <td>...</td>\n",
       "      <td>14.507345</td>\n",
       "      <td>4.222704</td>\n",
       "      <td>19.228169</td>\n",
       "      <td>3.577753</td>\n",
       "      <td>2.520869</td>\n",
       "      <td>2.693658</td>\n",
       "      <td>5.352193</td>\n",
       "      <td>15.649134</td>\n",
       "      <td>10199.440000</td>\n",
       "      <td>1.000000</td>\n",
       "    </tr>\n",
       "  </tbody>\n",
       "</table>\n",
       "<p>8 rows × 32 columns</p>\n",
       "</div>"
      ],
      "text/plain": [
       "       Unnamed: 0           Time           V1           V2           V3  \\\n",
       "count  8000.00000    8000.000000  8000.000000  8000.000000  8000.000000   \n",
       "mean   3999.50000   95357.290375     0.016628    -0.005726    -0.010398   \n",
       "std    2309.54541   46956.240862     1.899212     1.545809     1.477050   \n",
       "min       0.00000      64.000000   -29.973363   -29.198899   -19.947726   \n",
       "25%    1999.75000   55189.750000    -0.915243    -0.610001    -0.893566   \n",
       "50%    3999.50000   85758.000000     0.025737     0.040064     0.165369   \n",
       "75%    5999.25000  139042.750000     1.321858     0.784179     0.991859   \n",
       "max    7999.00000  172766.000000     2.373022    11.447082     3.985446   \n",
       "\n",
       "                V4           V5           V6           V7           V8  ...  \\\n",
       "count  8000.000000  8000.000000  8000.000000  8000.000000  8000.000000  ...   \n",
       "mean     -0.028731    -0.022065     0.000739     0.016121    -0.004941  ...   \n",
       "std       1.426184     1.401964     1.332905     1.305012     1.174568  ...   \n",
       "min      -5.416315   -40.427726    -7.810116   -21.234463   -26.069936  ...   \n",
       "25%      -0.903137    -0.714806    -0.790640    -0.560447    -0.215935  ...   \n",
       "50%      -0.035525    -0.076317    -0.282476     0.043119     0.019278  ...   \n",
       "75%       0.752604     0.601602     0.403259     0.581711     0.331131  ...   \n",
       "max       9.074932    13.815072    23.917837    44.054461     9.561121  ...   \n",
       "\n",
       "               V21          V22          V23          V24          V25  \\\n",
       "count  8000.000000  8000.000000  8000.000000  8000.000000  8000.000000   \n",
       "mean     -0.003501     0.028278     0.006422    -0.000855    -0.000284   \n",
       "std       0.678019     0.714746     0.553929     0.606846     0.513374   \n",
       "min     -13.950186    -4.910197   -12.667179    -2.814898    -3.223535   \n",
       "25%      -0.221765    -0.519427    -0.159989    -0.345288    -0.311490   \n",
       "50%      -0.026597     0.031274    -0.008716     0.038126     0.023790   \n",
       "75%       0.191495     0.549468     0.144751     0.440633     0.344371   \n",
       "max      14.507345     4.222704    19.228169     3.577753     2.520869   \n",
       "\n",
       "               V26          V27          V28        Amount        Class  \n",
       "count  8000.000000  8000.000000  8000.000000   8000.000000  8000.000000  \n",
       "mean      0.000740    -0.006161     0.005893     89.669246     0.002125  \n",
       "std       0.485101     0.394584     0.348770    260.188804     0.046052  \n",
       "min      -1.511259    -5.809357    -3.693525      0.000000     0.000000  \n",
       "25%      -0.327823    -0.071358    -0.052957      5.990000     0.000000  \n",
       "50%      -0.061720     0.000514     0.011239     22.855000     0.000000  \n",
       "75%       0.246298     0.086333     0.076835     78.432500     0.000000  \n",
       "max       2.693658     5.352193    15.649134  10199.440000     1.000000  \n",
       "\n",
       "[8 rows x 32 columns]"
      ]
     },
     "execution_count": 61,
     "metadata": {},
     "output_type": "execute_result"
    }
   ],
   "source": [
    "df.describe()"
   ]
  },
  {
   "cell_type": "code",
   "execution_count": 62,
   "id": "fdd303f4",
   "metadata": {},
   "outputs": [
    {
     "data": {
      "text/plain": [
       "<AxesSubplot:xlabel='Time', ylabel='Amount'>"
      ]
     },
     "execution_count": 62,
     "metadata": {},
     "output_type": "execute_result"
    },
    {
     "data": {
      "image/png": "[encoded data removed]",
      "text/plain": [
       "<Figure size 800x300 with 1 Axes>"
      ]
     },
     "metadata": {},
     "output_type": "display_data"
    }
   ],
   "source": [
    "df_bydate = df.groupby('Time',as_index=False)['Amount'].sum()\n",
    "fig = plt.figure(figsize=(8,3),dpi=100)\n",
    "sns.lineplot(x=\"Time\", y=\"Amount\", data=df_bydate)"
   ]
  },
  {
   "cell_type": "code",
   "execution_count": 63,
   "id": "df3b68b4",
   "metadata": {},
   "outputs": [
    {
     "data": {
      "text/plain": [
       "<matplotlib.legend.Legend at 0x237c7bbb580>"
      ]
     },
     "execution_count": 63,
     "metadata": {},
     "output_type": "execute_result"
    },
    {
     "data": {
      "image/png": "[encoded data removed]",
      "text/plain": [
       "<Figure size 800x300 with 1 Axes>"
      ]
     },
     "metadata": {},
     "output_type": "display_data"
    }
   ],
   "source": [
    "df_bydate = df.groupby(['Time','Class'],as_index=False)['Amount'].sum()\n",
    "fig = plt.figure(figsize=(8,3),dpi=100)\n",
    "sns.lineplot(x=\"Time\", y=\"Amount\", data=df_bydate,hue='Class')\n",
    "plt.legend(bbox_to_anchor=(1.02, 1), loc='upper left', borderaxespad=0)"
   ]
  },
  {
   "cell_type": "code",
   "execution_count": 64,
   "id": "273cdb07",
   "metadata": {},
   "outputs": [
    {
     "data": {
      "text/plain": [
       "(array([0, 1]), [Text(0, 0, '0'), Text(1, 0, '1')])"
      ]
     },
     "execution_count": 64,
     "metadata": {},
     "output_type": "execute_result"
    },
    {
     "data": {
      "image/png": "[encoded data removed]",
      "text/plain": [
       "<Figure size 800x300 with 1 Axes>"
      ]
     },
     "metadata": {},
     "output_type": "display_data"
    }
   ],
   "source": [
    "fig = plt.figure(figsize=(8,3),dpi=100)\n",
    "sns.barplot(data=df,x='Class',y='Amount')\n",
    "plt.xticks(rotation=45)"
   ]
  },
  {
   "cell_type": "code",
   "execution_count": 65,
   "id": "eaa180dd",
   "metadata": {},
   "outputs": [],
   "source": [
    "df = df.groupby('Class')['Amount'].agg(['sum','count']).reset_index()"
   ]
  },
  {
   "cell_type": "code",
   "execution_count": 66,
   "id": "a13a24ba",
   "metadata": {},
   "outputs": [
    {
     "data": {
      "text/html": [
       "<div>\n",
       "<style scoped>\n",
       "    .dataframe tbody tr th:only-of-type {\n",
       "        vertical-align: middle;\n",
       "    }\n",
       "\n",
       "    .dataframe tbody tr th {\n",
       "        vertical-align: top;\n",
       "    }\n",
       "\n",
       "    .dataframe thead th {\n",
       "        text-align: right;\n",
       "    }\n",
       "</style>\n",
       "<table border=\"1\" class=\"dataframe\">\n",
       "  <thead>\n",
       "    <tr style=\"text-align: right;\">\n",
       "      <th></th>\n",
       "      <th>Class</th>\n",
       "      <th>sum</th>\n",
       "      <th>count</th>\n",
       "    </tr>\n",
       "  </thead>\n",
       "  <tbody>\n",
       "    <tr>\n",
       "      <th>0</th>\n",
       "      <td>0</td>\n",
       "      <td>716244.08</td>\n",
       "      <td>7983</td>\n",
       "    </tr>\n",
       "    <tr>\n",
       "      <th>1</th>\n",
       "      <td>1</td>\n",
       "      <td>1109.89</td>\n",
       "      <td>17</td>\n",
       "    </tr>\n",
       "  </tbody>\n",
       "</table>\n",
       "</div>"
      ],
      "text/plain": [
       "   Class        sum  count\n",
       "0      0  716244.08   7983\n",
       "1      1    1109.89     17"
      ]
     },
     "execution_count": 66,
     "metadata": {},
     "output_type": "execute_result"
    }
   ],
   "source": [
    "df.head()"
   ]
  },
  {
   "cell_type": "code",
   "execution_count": 67,
   "id": "8972d3ea",
   "metadata": {},
   "outputs": [
    {
     "data": {
      "image/png": "[encoded data removed]",
      "text/plain": [
       "<Figure size 1000x600 with 2 Axes>"
      ]
     },
     "metadata": {},
     "output_type": "display_data"
    }
   ],
   "source": [
    "fig = plt.figure(figsize=(10,6))\n",
    "plt.subplot(2,1,1)\n",
    "sns.barplot(data=df.sort_values(by='sum',ascending=False),x='Class', y='sum')\n",
    "\n",
    "plt.subplot(2,1,2)\n",
    "sns.barplot(data=df.sort_values(by='count',ascending=False),x='Class', y='count')\n",
    "\n",
    "plt.tight_layout()"
   ]
  },
  {
   "cell_type": "markdown",
   "id": "2ca054c8",
   "metadata": {},
   "source": [
    "## Outliners"
   ]
  },
  {
   "cell_type": "code",
   "execution_count": 68,
   "id": "49c527dc",
   "metadata": {},
   "outputs": [],
   "source": [
    "## Analyze by Class transactions\n",
    "df = df.groupby(['Class'],as_index=False)['Class'].agg(['sum','count'])"
   ]
  },
  {
   "cell_type": "code",
   "execution_count": 69,
   "id": "36de10bd",
   "metadata": {},
   "outputs": [
    {
     "data": {
      "text/html": [
       "<div>\n",
       "<style scoped>\n",
       "    .dataframe tbody tr th:only-of-type {\n",
       "        vertical-align: middle;\n",
       "    }\n",
       "\n",
       "    .dataframe tbody tr th {\n",
       "        vertical-align: top;\n",
       "    }\n",
       "\n",
       "    .dataframe thead th {\n",
       "        text-align: right;\n",
       "    }\n",
       "</style>\n",
       "<table border=\"1\" class=\"dataframe\">\n",
       "  <thead>\n",
       "    <tr style=\"text-align: right;\">\n",
       "      <th></th>\n",
       "      <th>sum</th>\n",
       "      <th>count</th>\n",
       "    </tr>\n",
       "    <tr>\n",
       "      <th>Class</th>\n",
       "      <th></th>\n",
       "      <th></th>\n",
       "    </tr>\n",
       "  </thead>\n",
       "  <tbody>\n",
       "    <tr>\n",
       "      <th>0</th>\n",
       "      <td>0</td>\n",
       "      <td>1</td>\n",
       "    </tr>\n",
       "    <tr>\n",
       "      <th>1</th>\n",
       "      <td>1</td>\n",
       "      <td>1</td>\n",
       "    </tr>\n",
       "  </tbody>\n",
       "</table>\n",
       "</div>"
      ],
      "text/plain": [
       "       sum  count\n",
       "Class            \n",
       "0        0      1\n",
       "1        1      1"
      ]
     },
     "execution_count": 69,
     "metadata": {},
     "output_type": "execute_result"
    }
   ],
   "source": [
    "df.head()"
   ]
  },
  {
   "cell_type": "code",
   "execution_count": 70,
   "id": "4d492add",
   "metadata": {},
   "outputs": [
    {
     "data": {
      "text/html": [
       "<div>\n",
       "<style scoped>\n",
       "    .dataframe tbody tr th:only-of-type {\n",
       "        vertical-align: middle;\n",
       "    }\n",
       "\n",
       "    .dataframe tbody tr th {\n",
       "        vertical-align: top;\n",
       "    }\n",
       "\n",
       "    .dataframe thead th {\n",
       "        text-align: right;\n",
       "    }\n",
       "</style>\n",
       "<table border=\"1\" class=\"dataframe\">\n",
       "  <thead>\n",
       "    <tr style=\"text-align: right;\">\n",
       "      <th></th>\n",
       "      <th>sum</th>\n",
       "      <th>count</th>\n",
       "    </tr>\n",
       "  </thead>\n",
       "  <tbody>\n",
       "    <tr>\n",
       "      <th>count</th>\n",
       "      <td>2.000000</td>\n",
       "      <td>2.0</td>\n",
       "    </tr>\n",
       "    <tr>\n",
       "      <th>mean</th>\n",
       "      <td>0.500000</td>\n",
       "      <td>1.0</td>\n",
       "    </tr>\n",
       "    <tr>\n",
       "      <th>std</th>\n",
       "      <td>0.707107</td>\n",
       "      <td>0.0</td>\n",
       "    </tr>\n",
       "    <tr>\n",
       "      <th>min</th>\n",
       "      <td>0.000000</td>\n",
       "      <td>1.0</td>\n",
       "    </tr>\n",
       "    <tr>\n",
       "      <th>25%</th>\n",
       "      <td>0.250000</td>\n",
       "      <td>1.0</td>\n",
       "    </tr>\n",
       "    <tr>\n",
       "      <th>50%</th>\n",
       "      <td>0.500000</td>\n",
       "      <td>1.0</td>\n",
       "    </tr>\n",
       "    <tr>\n",
       "      <th>75%</th>\n",
       "      <td>0.750000</td>\n",
       "      <td>1.0</td>\n",
       "    </tr>\n",
       "    <tr>\n",
       "      <th>max</th>\n",
       "      <td>1.000000</td>\n",
       "      <td>1.0</td>\n",
       "    </tr>\n",
       "  </tbody>\n",
       "</table>\n",
       "</div>"
      ],
      "text/plain": [
       "            sum  count\n",
       "count  2.000000    2.0\n",
       "mean   0.500000    1.0\n",
       "std    0.707107    0.0\n",
       "min    0.000000    1.0\n",
       "25%    0.250000    1.0\n",
       "50%    0.500000    1.0\n",
       "75%    0.750000    1.0\n",
       "max    1.000000    1.0"
      ]
     },
     "execution_count": 70,
     "metadata": {},
     "output_type": "execute_result"
    }
   ],
   "source": [
    "df.describe()"
   ]
  },
  {
   "cell_type": "code",
   "execution_count": 72,
   "id": "9f5e3db1",
   "metadata": {},
   "outputs": [
    {
     "name": "stdout",
     "output_type": "stream",
     "text": [
      "0.5 0.5\n"
     ]
    }
   ],
   "source": [
    "std = np.std(df['sum'])\n",
    "mean = np.mean(df['sum'])\n",
    "print(mean, std)"
   ]
  },
  {
   "cell_type": "code",
   "execution_count": 73,
   "id": "c6ab67fc",
   "metadata": {},
   "outputs": [],
   "source": [
    "## Among those possitive value invoice, filter outliners which out of range of 3 std. \n",
    "inv_outliners = df[(df['sum'] > (mean + 3*std)) | (df['sum'] < (mean - 3*std))]"
   ]
  },
  {
   "cell_type": "code",
   "execution_count": 74,
   "id": "06822f17",
   "metadata": {},
   "outputs": [],
   "source": [
    "df = df.reset_index()"
   ]
  },
  {
   "cell_type": "code",
   "execution_count": 75,
   "id": "0e313462",
   "metadata": {},
   "outputs": [
    {
     "data": {
      "text/html": [
       "<div>\n",
       "<style scoped>\n",
       "    .dataframe tbody tr th:only-of-type {\n",
       "        vertical-align: middle;\n",
       "    }\n",
       "\n",
       "    .dataframe tbody tr th {\n",
       "        vertical-align: top;\n",
       "    }\n",
       "\n",
       "    .dataframe thead th {\n",
       "        text-align: right;\n",
       "    }\n",
       "</style>\n",
       "<table border=\"1\" class=\"dataframe\">\n",
       "  <thead>\n",
       "    <tr style=\"text-align: right;\">\n",
       "      <th></th>\n",
       "      <th>Class</th>\n",
       "      <th>sum</th>\n",
       "      <th>count</th>\n",
       "    </tr>\n",
       "  </thead>\n",
       "  <tbody>\n",
       "    <tr>\n",
       "      <th>0</th>\n",
       "      <td>0</td>\n",
       "      <td>0</td>\n",
       "      <td>1</td>\n",
       "    </tr>\n",
       "    <tr>\n",
       "      <th>1</th>\n",
       "      <td>1</td>\n",
       "      <td>1</td>\n",
       "      <td>1</td>\n",
       "    </tr>\n",
       "  </tbody>\n",
       "</table>\n",
       "</div>"
      ],
      "text/plain": [
       "   Class  sum  count\n",
       "0      0    0      1\n",
       "1      1    1      1"
      ]
     },
     "execution_count": 75,
     "metadata": {},
     "output_type": "execute_result"
    }
   ],
   "source": [
    "df.head()"
   ]
  },
  {
   "cell_type": "code",
   "execution_count": 76,
   "id": "623b4f31",
   "metadata": {},
   "outputs": [
    {
     "data": {
      "text/plain": [
       "<AxesSubplot:xlabel='Class', ylabel='sum'>"
      ]
     },
     "execution_count": 76,
     "metadata": {},
     "output_type": "execute_result"
    },
    {
     "data": {
      "image/png": "[encoded data removed]",
      "text/plain": [
       "<Figure size 1000x300 with 1 Axes>"
      ]
     },
     "metadata": {},
     "output_type": "display_data"
    }
   ],
   "source": [
    "fig = plt.figure(figsize=(10,3),dpi=100)\n",
    "sns.boxplot(x='Class',y='sum',data=df[df['sum'] > 0])"
   ]
  },
  {
   "cell_type": "code",
   "execution_count": null,
   "id": "caec783b",
   "metadata": {},
   "outputs": [],
   "source": []
  }
 ],
 "metadata": {
  "kernelspec": {
   "display_name": "Python 3 (ipykernel)",
   "language": "python",
   "name": "python3"
  },
  "language_info": {
   "codemirror_mode": {
    "name": "ipython",
    "version": 3
   },
   "file_extension": ".py",
   "mimetype": "text/x-python",
   "name": "python",
   "nbconvert_exporter": "python",
   "pygments_lexer": "ipython3",
   "version": "3.9.15"
  }
 },
 "nbformat": 4,
 "nbformat_minor": 5
}
