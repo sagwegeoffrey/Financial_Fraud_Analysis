{
 "cells": [
  {
   "cell_type": "markdown",
   "id": "64e52810",
   "metadata": {},
   "source": [
    "#### Federated Learning \n",
    "Trains central models on decentralized data, hyper-personalized for users with minimum Latencies, while preserving privacy."
   ]
  },
  {
   "cell_type": "markdown",
   "id": "46d23990",
   "metadata": {},
   "source": [
    "#### Importing Required Libraries"
   ]
  },
  {
   "cell_type": "code",
   "execution_count": 1,
   "id": "372986ac",
   "metadata": {},
   "outputs": [],
   "source": [
    "import os\n",
    "import numpy as np\n",
    "import torch, torchvision\n",
    "import torch as T\n",
    "import torch.nn as nn\n",
    "import random\n",
    "import pandas as pd\n",
    "from tqdm import tqdm\n",
    "import torch.nn.functional as F\n",
    "import torch.optim as optim\n",
    "from numpy import vstack\n",
    "from torch.utils.data.dataset import Dataset\n",
    "from torchvision import datasets, transforms\n",
    "from sklearn.metrics import accuracy_score\n",
    "from sklearn.metrics import precision_score, recall_score, f1_score, confusion_matrix\n",
    "from torch.optim import SGD\n",
    "from torch.nn import BCELoss"
   ]
  },
  {
   "cell_type": "code",
   "execution_count": 2,
   "id": "b333c94d",
   "metadata": {},
   "outputs": [],
   "source": [
    "class PeopleDataset(T.utils.data.Dataset):\n",
    "    def __init__(self, src_file, num_rows=None):\n",
    "        df = pd.read_csv(src_file)\n",
    "        df.drop(df.columns[[0]], axis=1, inplace=True)\n",
    "        print(df.columns)\n",
    "        df.Class = df.Class.astype('float64')\n",
    "        y_tmp = df['Class'].values\n",
    "        x_tmp = df.drop('Class', axis=1).values\n",
    "                \n",
    "\n",
    "        self.x_data = T.tensor(x_tmp,dtype=T.float64).to(device)\n",
    "        self.y_data = T.tensor(y_tmp,dtype=T.float64).to(device)\n",
    "\n",
    "        print(type(self.x_data))\n",
    "        print(len(self.x_data))\n",
    "\n",
    "    def __len__(self):\n",
    "        return len(self.x_data)\n",
    "\n",
    "    def __getitem__(self, idx):\n",
    "        if T.is_tensor(idx):\n",
    "            idx = idx.tolist()\n",
    "        preds = self.x_data[idx].type(T.FloatTensor)\n",
    "        pol = self.y_data[idx].type(T.LongTensor)\n",
    "        sample = [preds, pol]\n",
    "        return sample"
   ]
  },
  {
   "cell_type": "code",
   "execution_count": 3,
   "id": "274ba0c7",
   "metadata": {},
   "outputs": [],
   "source": [
    "class MLPUpdated(nn.Module):\n",
    "    def __init__(self):\n",
    "        super().__init__()\n",
    "        self.layers = nn.Sequential(\n",
    "            nn.Linear(30, 32),\n",
    "            nn.ReLU(),\n",
    "            nn.Dropout(0.2),\n",
    "            nn.Linear(32,16),\n",
    "            nn.ReLU(),\n",
    "            nn.Dropout(0.1),\n",
    "            nn.Linear(16, 8),\n",
    "            nn.ReLU(),\n",
    "            nn.Linear(8, 1),\n",
    "            nn.Sigmoid()\n",
    "        )\n",
    "\n",
    "    def forward(self, x):\n",
    "        return self.layers(x)"
   ]
  },
  {
   "cell_type": "code",
   "execution_count": 4,
   "id": "d854afdb",
   "metadata": {},
   "outputs": [],
   "source": [
    "federated_acc, federated_pre, federated_recall, federated_f1 = list(), list(), list(), list()\n",
    "mp = {}"
   ]
  },
  {
   "cell_type": "markdown",
   "id": "e8a7dedd",
   "metadata": {},
   "source": [
    "### Federated Learning"
   ]
  },
  {
   "cell_type": "code",
   "execution_count": 5,
   "id": "5f92e2ab",
   "metadata": {},
   "outputs": [],
   "source": [
    "# Can be changed to 12,16,24,32\n",
    "num_clients = 32\n",
    "# Change it to 3, 6, 10, 16\n",
    "num_selected = 16\n",
    "num_rounds = 50\n",
    "batch_size = 1024\n",
    "epochs = 20\n",
    "device = \"cpu\"\n",
    "device = torch.device(device)\n",
    "federated_acc, federated_pre, federated_recall, federated_f1 = list(), list(), list(), list()"
   ]
  },
  {
   "cell_type": "markdown",
   "id": "09734947",
   "metadata": {},
   "source": [
    "### Train the model on decentralized or user data."
   ]
  },
  {
   "cell_type": "code",
   "execution_count": 6,
   "id": "3f72f572",
   "metadata": {},
   "outputs": [
    {
     "name": "stdout",
     "output_type": "stream",
     "text": [
      "Index(['Time', 'V1', 'V2', 'V3', 'V4', 'V5', 'V6', 'V7', 'V8', 'V9', 'V10',\n",
      "       'V11', 'V12', 'V13', 'V14', 'V15', 'V16', 'V17', 'V18', 'V19', 'V20',\n",
      "       'V21', 'V22', 'V23', 'V24', 'V25', 'V26', 'V27', 'V28', 'Amount',\n",
      "       'Class'],\n",
      "      dtype='object')\n",
      "<class 'torch.Tensor'>\n",
      "8000\n",
      "8000\n",
      "Index(['Time', 'V1', 'V2', 'V3', 'V4', 'V5', 'V6', 'V7', 'V8', 'V9', 'V10',\n",
      "       'V11', 'V12', 'V13', 'V14', 'V15', 'V16', 'V17', 'V18', 'V19', 'V20',\n",
      "       'V21', 'V22', 'V23', 'V24', 'V25', 'V26', 'V27', 'V28', 'Amount',\n",
      "       'Class'],\n",
      "      dtype='object')\n",
      "<class 'torch.Tensor'>\n",
      "8000\n"
     ]
    }
   ],
   "source": [
    "# Dividing the training data into num_clients, with each client having equal number of data\n",
    "traindata = PeopleDataset('creditsampledata.csv')\n",
    "print(len(traindata))\n",
    "traindata_split = torch.utils.data.random_split(traindata, [int(len(traindata) / num_clients) for _ in range(num_clients)])\n",
    "train_loader = [torch.utils.data.DataLoader(x, batch_size=batch_size, shuffle=True) for x in traindata_split]\n",
    "\n",
    "\n",
    "test_file = 'creditsampledata.csv'\n",
    "test_ds = PeopleDataset(test_file)\n",
    "test_loader = T.utils.data.DataLoader(test_ds,batch_size=batch_size, shuffle=True)"
   ]
  },
  {
   "cell_type": "markdown",
   "id": "fc932d53",
   "metadata": {},
   "source": [
    "### Model training on client or user data to evaluate and test the baseline performance."
   ]
  },
  {
   "cell_type": "code",
   "execution_count": 8,
   "id": "3dd29f89",
   "metadata": {},
   "outputs": [],
   "source": [
    "def client_update(client_model, optimizer, train_loader, epoch=15):\n",
    "    \"\"\"\n",
    "    This function updates/trains client model on client data\n",
    "    \"\"\"\n",
    "    model.train()\n",
    "    for e in range(epoch):\n",
    "        for batch_idx, (data, target) in enumerate(train_loader):\n",
    "            data, target = data.to(device), target.to(device)\n",
    "            optimizer.zero_grad()\n",
    "            output = client_model(data)\n",
    "            binary_loss = torch.nn.BCEWithLogitsLoss()\n",
    "            target = target.unsqueeze(1)\n",
    "            target = target.float()\n",
    "            loss = binary_loss(output, target)\n",
    "            loss.backward()\n",
    "            optimizer.step()\n",
    "    return loss.item()"
   ]
  },
  {
   "cell_type": "code",
   "execution_count": 9,
   "id": "d5d4e791",
   "metadata": {},
   "outputs": [],
   "source": [
    "def server_aggregate(global_model, client_models):\n",
    "    \"\"\"\n",
    "    This function has aggregation method 'mean'\n",
    "    \"\"\"\n",
    "    ### This will take simple mean of the weights of models ###\n",
    "    global_dict = global_model.state_dict()\n",
    "    for k in global_dict.keys():\n",
    "        global_dict[k] = torch.stack([client_models[i].state_dict()[k].float() for i in range(len(client_models))], 0).mean(0)\n",
    "    global_model.load_state_dict(global_dict)\n",
    "    for model in client_models:\n",
    "        model.load_state_dict(global_model.state_dict())"
   ]
  },
  {
   "cell_type": "code",
   "execution_count": 14,
   "id": "ef6def3d",
   "metadata": {},
   "outputs": [],
   "source": [
    "def test(global_model, test_loader):\n",
    "    \"The function test the global model on test data and returns test loss and test accuracy\"\n",
    "    model.eval()\n",
    "    test_loss = 0\n",
    "    correct = 0\n",
    "    actuals, predictions = list(), list()\n",
    "    with torch.no_grad():\n",
    "        for data, target in test_loader:\n",
    "            data, target = data.to(device), target.to(device)\n",
    "            output = global_model(data)\n",
    "            binary_loss = torch.nn.BCEWithLogitsLoss()\n",
    "            target = target.unsqueeze(1)\n",
    "            target = target.float()\n",
    "            test_loss += binary_loss(output, target)\n",
    "            pred = output.argmax(dim=1, keepdim=True)  # get the index of the max log-probability\n",
    "            correct += pred.eq(target.view_as(pred)).sum().item()\n",
    "            actual = target.numpy()\n",
    "            pr = output.detach().numpy()\n",
    "            pr = pr.round()\n",
    "            predictions.append(pr)\n",
    "            actuals.append(actual)\n",
    "\n",
    "    test_loss /= len(test_loader.dataset)\n",
    "    predictions, actuals = vstack(predictions), vstack(actuals)\n",
    "    # calculate accuracy\n",
    "    acc = accuracy_score(actuals, predictions)\n",
    "    # calculate precision\n",
    "    prescision = precision_score(actuals, predictions)\n",
    "    # calculate recall\n",
    "    recall = recall_score(actuals, predictions)\n",
    "    # calculate f1\n",
    "    f1 = f1_score(actuals, predictions)\n",
    "    federated_acc.append(acc)\n",
    "    federated_pre.append(prescision)\n",
    "    federated_recall.append(recall)\n",
    "    federated_f1.append(f1)\n",
    "    print()\n",
    "    print(confusion_matrix(actuals, predictions))\n",
    "    return test_loss, acc, prescision, recall, f1"
   ]
  },
  {
   "cell_type": "code",
   "execution_count": 15,
   "id": "157b070e",
   "metadata": {},
   "outputs": [],
   "source": [
    "## Initializing models optimizer and global_model =  MLPUpdated\n",
    "global_model = MLPUpdated().to(device)\n",
    "\n",
    "## client models\n",
    "client_models = [ MLPUpdated().to(device) for _ in range(num_selected)]\n",
    "for model in client_models:\n",
    "    model.load_state_dict(global_model.state_dict()) ## initial synchronizing with global model \n",
    "\n",
    "## optimizers \n",
    "opt = [optim.SGD(model.parameters(), lr=0.01) for model in client_models]"
   ]
  },
  {
   "cell_type": "code",
   "execution_count": 16,
   "id": "507f65b3",
   "metadata": {},
   "outputs": [
    {
     "name": "stderr",
     "output_type": "stream",
     "text": [
      "100%|██████████████████████████████████████████████████████████████████████████████████| 16/16 [00:15<00:00,  1.04it/s]\n"
     ]
    },
    {
     "name": "stdout",
     "output_type": "stream",
     "text": [
      "\n",
      "[[7973   10]\n",
      " [  17    0]]\n",
      "0-th round\n",
      "average train loss 0.695 | test loss 0.000694 | test acc: 0.997 | test prescision: 0.000 | test recall: 0.000 | test f1: 0.000\n"
     ]
    },
    {
     "name": "stderr",
     "output_type": "stream",
     "text": [
      "100%|██████████████████████████████████████████████████████████████████████████████████| 16/16 [00:04<00:00,  3.53it/s]\n"
     ]
    },
    {
     "name": "stdout",
     "output_type": "stream",
     "text": [
      "\n",
      "[[7977    6]\n",
      " [  17    0]]\n",
      "1-th round\n",
      "average train loss 0.693 | test loss 0.000694 | test acc: 0.997 | test prescision: 0.000 | test recall: 0.000 | test f1: 0.000\n"
     ]
    },
    {
     "name": "stderr",
     "output_type": "stream",
     "text": [
      "100%|██████████████████████████████████████████████████████████████████████████████████| 16/16 [00:03<00:00,  4.13it/s]\n"
     ]
    },
    {
     "name": "stdout",
     "output_type": "stream",
     "text": [
      "\n",
      "[[7977    6]\n",
      " [  17    0]]\n",
      "2-th round\n",
      "average train loss 0.694 | test loss 0.000694 | test acc: 0.997 | test prescision: 0.000 | test recall: 0.000 | test f1: 0.000\n"
     ]
    },
    {
     "name": "stderr",
     "output_type": "stream",
     "text": [
      "100%|██████████████████████████████████████████████████████████████████████████████████| 16/16 [00:03<00:00,  4.14it/s]\n"
     ]
    },
    {
     "name": "stdout",
     "output_type": "stream",
     "text": [
      "\n",
      "[[7981    2]\n",
      " [  17    0]]\n",
      "3-th round\n",
      "average train loss 0.693 | test loss 0.000693 | test acc: 0.998 | test prescision: 0.000 | test recall: 0.000 | test f1: 0.000\n"
     ]
    },
    {
     "name": "stderr",
     "output_type": "stream",
     "text": [
      "100%|██████████████████████████████████████████████████████████████████████████████████| 16/16 [00:05<00:00,  3.09it/s]\n"
     ]
    },
    {
     "name": "stdout",
     "output_type": "stream",
     "text": [
      "\n",
      "[[7979    4]\n",
      " [  17    0]]\n",
      "4-th round\n",
      "average train loss 0.693 | test loss 0.000694 | test acc: 0.997 | test prescision: 0.000 | test recall: 0.000 | test f1: 0.000\n"
     ]
    },
    {
     "name": "stderr",
     "output_type": "stream",
     "text": [
      "100%|██████████████████████████████████████████████████████████████████████████████████| 16/16 [00:03<00:00,  4.76it/s]\n"
     ]
    },
    {
     "name": "stdout",
     "output_type": "stream",
     "text": [
      "\n",
      "[[7981    2]\n",
      " [  17    0]]\n",
      "5-th round\n",
      "average train loss 0.694 | test loss 0.000693 | test acc: 0.998 | test prescision: 0.000 | test recall: 0.000 | test f1: 0.000\n"
     ]
    },
    {
     "name": "stderr",
     "output_type": "stream",
     "text": [
      "100%|██████████████████████████████████████████████████████████████████████████████████| 16/16 [00:03<00:00,  4.46it/s]\n"
     ]
    },
    {
     "name": "stdout",
     "output_type": "stream",
     "text": [
      "\n",
      "[[7980    3]\n",
      " [  17    0]]\n",
      "6-th round\n",
      "average train loss 0.693 | test loss 0.000694 | test acc: 0.998 | test prescision: 0.000 | test recall: 0.000 | test f1: 0.000\n"
     ]
    },
    {
     "name": "stderr",
     "output_type": "stream",
     "text": [
      "100%|██████████████████████████████████████████████████████████████████████████████████| 16/16 [00:03<00:00,  4.55it/s]\n"
     ]
    },
    {
     "name": "stdout",
     "output_type": "stream",
     "text": [
      "\n",
      "[[7981    2]\n",
      " [  17    0]]\n",
      "7-th round\n",
      "average train loss 0.693 | test loss 0.000693 | test acc: 0.998 | test prescision: 0.000 | test recall: 0.000 | test f1: 0.000\n"
     ]
    },
    {
     "name": "stderr",
     "output_type": "stream",
     "text": [
      "100%|██████████████████████████████████████████████████████████████████████████████████| 16/16 [00:03<00:00,  4.73it/s]\n"
     ]
    },
    {
     "name": "stdout",
     "output_type": "stream",
     "text": [
      "\n",
      "[[7981    2]\n",
      " [  17    0]]\n",
      "8-th round\n",
      "average train loss 0.694 | test loss 0.000693 | test acc: 0.998 | test prescision: 0.000 | test recall: 0.000 | test f1: 0.000\n"
     ]
    },
    {
     "name": "stderr",
     "output_type": "stream",
     "text": [
      "100%|██████████████████████████████████████████████████████████████████████████████████| 16/16 [00:03<00:00,  4.16it/s]\n"
     ]
    },
    {
     "name": "stdout",
     "output_type": "stream",
     "text": [
      "\n",
      "[[7981    2]\n",
      " [  17    0]]\n",
      "9-th round\n",
      "average train loss 0.693 | test loss 0.000693 | test acc: 0.998 | test prescision: 0.000 | test recall: 0.000 | test f1: 0.000\n"
     ]
    },
    {
     "name": "stderr",
     "output_type": "stream",
     "text": [
      "100%|██████████████████████████████████████████████████████████████████████████████████| 16/16 [00:03<00:00,  4.26it/s]\n"
     ]
    },
    {
     "name": "stdout",
     "output_type": "stream",
     "text": [
      "\n",
      "[[7982    1]\n",
      " [  17    0]]\n",
      "10-th round\n",
      "average train loss 0.694 | test loss 0.000693 | test acc: 0.998 | test prescision: 0.000 | test recall: 0.000 | test f1: 0.000\n"
     ]
    },
    {
     "name": "stderr",
     "output_type": "stream",
     "text": [
      "100%|██████████████████████████████████████████████████████████████████████████████████| 16/16 [00:08<00:00,  1.84it/s]\n"
     ]
    },
    {
     "name": "stdout",
     "output_type": "stream",
     "text": [
      "\n",
      "[[7980    3]\n",
      " [  17    0]]\n",
      "11-th round\n",
      "average train loss 0.693 | test loss 0.000694 | test acc: 0.998 | test prescision: 0.000 | test recall: 0.000 | test f1: 0.000\n"
     ]
    },
    {
     "name": "stderr",
     "output_type": "stream",
     "text": [
      "100%|██████████████████████████████████████████████████████████████████████████████████| 16/16 [00:04<00:00,  3.88it/s]\n"
     ]
    },
    {
     "name": "stdout",
     "output_type": "stream",
     "text": [
      "\n",
      "[[7981    2]\n",
      " [  17    0]]\n",
      "12-th round\n",
      "average train loss 0.693 | test loss 0.000693 | test acc: 0.998 | test prescision: 0.000 | test recall: 0.000 | test f1: 0.000\n"
     ]
    },
    {
     "name": "stderr",
     "output_type": "stream",
     "text": [
      "100%|██████████████████████████████████████████████████████████████████████████████████| 16/16 [00:03<00:00,  4.83it/s]\n"
     ]
    },
    {
     "name": "stdout",
     "output_type": "stream",
     "text": [
      "\n",
      "[[7981    2]\n",
      " [  17    0]]\n",
      "13-th round\n",
      "average train loss 0.693 | test loss 0.000693 | test acc: 0.998 | test prescision: 0.000 | test recall: 0.000 | test f1: 0.000\n"
     ]
    },
    {
     "name": "stderr",
     "output_type": "stream",
     "text": [
      "100%|██████████████████████████████████████████████████████████████████████████████████| 16/16 [00:08<00:00,  1.94it/s]\n",
      "C:\\Users\\DR SAGWE\\anaconda3\\lib\\site-packages\\sklearn\\metrics\\_classification.py:1318: UndefinedMetricWarning: Precision is ill-defined and being set to 0.0 due to no predicted samples. Use `zero_division` parameter to control this behavior.\n",
      "  _warn_prf(average, modifier, msg_start, len(result))\n"
     ]
    },
    {
     "name": "stdout",
     "output_type": "stream",
     "text": [
      "\n",
      "[[7983    0]\n",
      " [  17    0]]\n",
      "14-th round\n",
      "average train loss 0.693 | test loss 0.000693 | test acc: 0.998 | test prescision: 0.000 | test recall: 0.000 | test f1: 0.000\n"
     ]
    },
    {
     "name": "stderr",
     "output_type": "stream",
     "text": [
      "100%|██████████████████████████████████████████████████████████████████████████████████| 16/16 [00:07<00:00,  2.00it/s]\n"
     ]
    },
    {
     "name": "stdout",
     "output_type": "stream",
     "text": [
      "\n",
      "[[7981    2]\n",
      " [  17    0]]\n",
      "15-th round\n",
      "average train loss 0.693 | test loss 0.000693 | test acc: 0.998 | test prescision: 0.000 | test recall: 0.000 | test f1: 0.000\n"
     ]
    },
    {
     "name": "stderr",
     "output_type": "stream",
     "text": [
      "100%|██████████████████████████████████████████████████████████████████████████████████| 16/16 [00:07<00:00,  2.22it/s]\n",
      "C:\\Users\\DR SAGWE\\anaconda3\\lib\\site-packages\\sklearn\\metrics\\_classification.py:1318: UndefinedMetricWarning: Precision is ill-defined and being set to 0.0 due to no predicted samples. Use `zero_division` parameter to control this behavior.\n",
      "  _warn_prf(average, modifier, msg_start, len(result))\n"
     ]
    },
    {
     "name": "stdout",
     "output_type": "stream",
     "text": [
      "\n",
      "[[7983    0]\n",
      " [  17    0]]\n",
      "16-th round\n",
      "average train loss 0.693 | test loss 0.000693 | test acc: 0.998 | test prescision: 0.000 | test recall: 0.000 | test f1: 0.000\n"
     ]
    },
    {
     "name": "stderr",
     "output_type": "stream",
     "text": [
      "100%|██████████████████████████████████████████████████████████████████████████████████| 16/16 [00:05<00:00,  3.12it/s]\n"
     ]
    },
    {
     "name": "stdout",
     "output_type": "stream",
     "text": [
      "\n",
      "[[7982    1]\n",
      " [  17    0]]\n",
      "17-th round\n",
      "average train loss 0.693 | test loss 0.000693 | test acc: 0.998 | test prescision: 0.000 | test recall: 0.000 | test f1: 0.000\n"
     ]
    },
    {
     "name": "stderr",
     "output_type": "stream",
     "text": [
      "100%|██████████████████████████████████████████████████████████████████████████████████| 16/16 [00:03<00:00,  4.21it/s]\n"
     ]
    },
    {
     "name": "stdout",
     "output_type": "stream",
     "text": [
      "\n",
      "[[7981    2]\n",
      " [  17    0]]\n",
      "18-th round\n",
      "average train loss 0.693 | test loss 0.000693 | test acc: 0.998 | test prescision: 0.000 | test recall: 0.000 | test f1: 0.000\n"
     ]
    },
    {
     "name": "stderr",
     "output_type": "stream",
     "text": [
      "100%|██████████████████████████████████████████████████████████████████████████████████| 16/16 [00:05<00:00,  3.16it/s]\n"
     ]
    },
    {
     "name": "stdout",
     "output_type": "stream",
     "text": [
      "\n",
      "[[7981    2]\n",
      " [  17    0]]\n",
      "19-th round\n",
      "average train loss 0.693 | test loss 0.000693 | test acc: 0.998 | test prescision: 0.000 | test recall: 0.000 | test f1: 0.000\n"
     ]
    },
    {
     "name": "stderr",
     "output_type": "stream",
     "text": [
      "100%|██████████████████████████████████████████████████████████████████████████████████| 16/16 [00:06<00:00,  2.36it/s]\n"
     ]
    },
    {
     "name": "stdout",
     "output_type": "stream",
     "text": [
      "\n",
      "[[7982    1]\n",
      " [  17    0]]\n",
      "20-th round\n",
      "average train loss 0.693 | test loss 0.000693 | test acc: 0.998 | test prescision: 0.000 | test recall: 0.000 | test f1: 0.000\n"
     ]
    },
    {
     "name": "stderr",
     "output_type": "stream",
     "text": [
      "100%|██████████████████████████████████████████████████████████████████████████████████| 16/16 [00:03<00:00,  4.27it/s]\n"
     ]
    },
    {
     "name": "stdout",
     "output_type": "stream",
     "text": [
      "\n",
      "[[7982    1]\n",
      " [  17    0]]\n",
      "21-th round\n",
      "average train loss 0.693 | test loss 0.000693 | test acc: 0.998 | test prescision: 0.000 | test recall: 0.000 | test f1: 0.000\n"
     ]
    },
    {
     "name": "stderr",
     "output_type": "stream",
     "text": [
      "100%|██████████████████████████████████████████████████████████████████████████████████| 16/16 [00:08<00:00,  1.88it/s]\n"
     ]
    },
    {
     "name": "stdout",
     "output_type": "stream",
     "text": [
      "\n",
      "[[7982    1]\n",
      " [  17    0]]\n",
      "22-th round\n",
      "average train loss 0.693 | test loss 0.000693 | test acc: 0.998 | test prescision: 0.000 | test recall: 0.000 | test f1: 0.000\n"
     ]
    },
    {
     "name": "stderr",
     "output_type": "stream",
     "text": [
      "100%|██████████████████████████████████████████████████████████████████████████████████| 16/16 [00:07<00:00,  2.27it/s]\n",
      "C:\\Users\\DR SAGWE\\anaconda3\\lib\\site-packages\\sklearn\\metrics\\_classification.py:1318: UndefinedMetricWarning: Precision is ill-defined and being set to 0.0 due to no predicted samples. Use `zero_division` parameter to control this behavior.\n",
      "  _warn_prf(average, modifier, msg_start, len(result))\n"
     ]
    },
    {
     "name": "stdout",
     "output_type": "stream",
     "text": [
      "\n",
      "[[7983    0]\n",
      " [  17    0]]\n",
      "23-th round\n",
      "average train loss 0.693 | test loss 0.000693 | test acc: 0.998 | test prescision: 0.000 | test recall: 0.000 | test f1: 0.000\n"
     ]
    },
    {
     "name": "stderr",
     "output_type": "stream",
     "text": [
      "100%|██████████████████████████████████████████████████████████████████████████████████| 16/16 [00:06<00:00,  2.62it/s]\n",
      "C:\\Users\\DR SAGWE\\anaconda3\\lib\\site-packages\\sklearn\\metrics\\_classification.py:1318: UndefinedMetricWarning: Precision is ill-defined and being set to 0.0 due to no predicted samples. Use `zero_division` parameter to control this behavior.\n",
      "  _warn_prf(average, modifier, msg_start, len(result))\n"
     ]
    },
    {
     "name": "stdout",
     "output_type": "stream",
     "text": [
      "\n",
      "[[7983    0]\n",
      " [  17    0]]\n",
      "24-th round\n",
      "average train loss 0.694 | test loss 0.000693 | test acc: 0.998 | test prescision: 0.000 | test recall: 0.000 | test f1: 0.000\n"
     ]
    },
    {
     "name": "stderr",
     "output_type": "stream",
     "text": [
      "100%|██████████████████████████████████████████████████████████████████████████████████| 16/16 [00:04<00:00,  3.66it/s]\n"
     ]
    },
    {
     "name": "stdout",
     "output_type": "stream",
     "text": [
      "\n",
      "[[7981    2]\n",
      " [  17    0]]\n",
      "25-th round\n",
      "average train loss 0.693 | test loss 0.000693 | test acc: 0.998 | test prescision: 0.000 | test recall: 0.000 | test f1: 0.000\n"
     ]
    },
    {
     "name": "stderr",
     "output_type": "stream",
     "text": [
      "100%|██████████████████████████████████████████████████████████████████████████████████| 16/16 [00:05<00:00,  3.12it/s]\n",
      "C:\\Users\\DR SAGWE\\anaconda3\\lib\\site-packages\\sklearn\\metrics\\_classification.py:1318: UndefinedMetricWarning: Precision is ill-defined and being set to 0.0 due to no predicted samples. Use `zero_division` parameter to control this behavior.\n",
      "  _warn_prf(average, modifier, msg_start, len(result))\n"
     ]
    },
    {
     "name": "stdout",
     "output_type": "stream",
     "text": [
      "\n",
      "[[7983    0]\n",
      " [  17    0]]\n",
      "26-th round\n",
      "average train loss 0.693 | test loss 0.000693 | test acc: 0.998 | test prescision: 0.000 | test recall: 0.000 | test f1: 0.000\n"
     ]
    },
    {
     "name": "stderr",
     "output_type": "stream",
     "text": [
      "100%|██████████████████████████████████████████████████████████████████████████████████| 16/16 [00:03<00:00,  4.77it/s]\n",
      "C:\\Users\\DR SAGWE\\anaconda3\\lib\\site-packages\\sklearn\\metrics\\_classification.py:1318: UndefinedMetricWarning: Precision is ill-defined and being set to 0.0 due to no predicted samples. Use `zero_division` parameter to control this behavior.\n",
      "  _warn_prf(average, modifier, msg_start, len(result))\n"
     ]
    },
    {
     "name": "stdout",
     "output_type": "stream",
     "text": [
      "\n",
      "[[7983    0]\n",
      " [  17    0]]\n",
      "27-th round\n",
      "average train loss 0.693 | test loss 0.000693 | test acc: 0.998 | test prescision: 0.000 | test recall: 0.000 | test f1: 0.000\n"
     ]
    },
    {
     "name": "stderr",
     "output_type": "stream",
     "text": [
      "100%|██████████████████████████████████████████████████████████████████████████████████| 16/16 [00:03<00:00,  4.38it/s]\n"
     ]
    },
    {
     "name": "stdout",
     "output_type": "stream",
     "text": [
      "\n",
      "[[7981    2]\n",
      " [  17    0]]\n",
      "28-th round\n",
      "average train loss 0.693 | test loss 0.000693 | test acc: 0.998 | test prescision: 0.000 | test recall: 0.000 | test f1: 0.000\n"
     ]
    },
    {
     "name": "stderr",
     "output_type": "stream",
     "text": [
      "100%|██████████████████████████████████████████████████████████████████████████████████| 16/16 [00:03<00:00,  4.55it/s]\n",
      "C:\\Users\\DR SAGWE\\anaconda3\\lib\\site-packages\\sklearn\\metrics\\_classification.py:1318: UndefinedMetricWarning: Precision is ill-defined and being set to 0.0 due to no predicted samples. Use `zero_division` parameter to control this behavior.\n",
      "  _warn_prf(average, modifier, msg_start, len(result))\n"
     ]
    },
    {
     "name": "stdout",
     "output_type": "stream",
     "text": [
      "\n",
      "[[7983    0]\n",
      " [  17    0]]\n",
      "29-th round\n",
      "average train loss 0.693 | test loss 0.000693 | test acc: 0.998 | test prescision: 0.000 | test recall: 0.000 | test f1: 0.000\n"
     ]
    },
    {
     "name": "stderr",
     "output_type": "stream",
     "text": [
      "100%|██████████████████████████████████████████████████████████████████████████████████| 16/16 [00:03<00:00,  4.56it/s]\n"
     ]
    },
    {
     "name": "stdout",
     "output_type": "stream",
     "text": [
      "\n",
      "[[7982    1]\n",
      " [  17    0]]\n",
      "30-th round\n",
      "average train loss 0.693 | test loss 0.000693 | test acc: 0.998 | test prescision: 0.000 | test recall: 0.000 | test f1: 0.000\n"
     ]
    },
    {
     "name": "stderr",
     "output_type": "stream",
     "text": [
      "100%|██████████████████████████████████████████████████████████████████████████████████| 16/16 [00:04<00:00,  3.78it/s]\n"
     ]
    },
    {
     "name": "stdout",
     "output_type": "stream",
     "text": [
      "\n",
      "[[7982    1]\n",
      " [  17    0]]\n",
      "31-th round\n",
      "average train loss 0.693 | test loss 0.000693 | test acc: 0.998 | test prescision: 0.000 | test recall: 0.000 | test f1: 0.000\n"
     ]
    },
    {
     "name": "stderr",
     "output_type": "stream",
     "text": [
      "100%|██████████████████████████████████████████████████████████████████████████████████| 16/16 [00:03<00:00,  4.38it/s]\n"
     ]
    },
    {
     "name": "stdout",
     "output_type": "stream",
     "text": [
      "\n",
      "[[7981    2]\n",
      " [  17    0]]\n",
      "32-th round\n",
      "average train loss 0.693 | test loss 0.000693 | test acc: 0.998 | test prescision: 0.000 | test recall: 0.000 | test f1: 0.000\n"
     ]
    },
    {
     "name": "stderr",
     "output_type": "stream",
     "text": [
      "100%|██████████████████████████████████████████████████████████████████████████████████| 16/16 [00:05<00:00,  3.12it/s]\n",
      "C:\\Users\\DR SAGWE\\anaconda3\\lib\\site-packages\\sklearn\\metrics\\_classification.py:1318: UndefinedMetricWarning: Precision is ill-defined and being set to 0.0 due to no predicted samples. Use `zero_division` parameter to control this behavior.\n",
      "  _warn_prf(average, modifier, msg_start, len(result))\n"
     ]
    },
    {
     "name": "stdout",
     "output_type": "stream",
     "text": [
      "\n",
      "[[7983    0]\n",
      " [  17    0]]\n",
      "33-th round\n",
      "average train loss 0.693 | test loss 0.000693 | test acc: 0.998 | test prescision: 0.000 | test recall: 0.000 | test f1: 0.000\n"
     ]
    },
    {
     "name": "stderr",
     "output_type": "stream",
     "text": [
      "100%|██████████████████████████████████████████████████████████████████████████████████| 16/16 [00:04<00:00,  3.56it/s]\n",
      "C:\\Users\\DR SAGWE\\anaconda3\\lib\\site-packages\\sklearn\\metrics\\_classification.py:1318: UndefinedMetricWarning: Precision is ill-defined and being set to 0.0 due to no predicted samples. Use `zero_division` parameter to control this behavior.\n",
      "  _warn_prf(average, modifier, msg_start, len(result))\n"
     ]
    },
    {
     "name": "stdout",
     "output_type": "stream",
     "text": [
      "\n",
      "[[7983    0]\n",
      " [  17    0]]\n",
      "34-th round\n",
      "average train loss 0.693 | test loss 0.000693 | test acc: 0.998 | test prescision: 0.000 | test recall: 0.000 | test f1: 0.000\n"
     ]
    },
    {
     "name": "stderr",
     "output_type": "stream",
     "text": [
      "100%|██████████████████████████████████████████████████████████████████████████████████| 16/16 [00:07<00:00,  2.01it/s]\n"
     ]
    },
    {
     "name": "stdout",
     "output_type": "stream",
     "text": [
      "\n",
      "[[7982    1]\n",
      " [  17    0]]\n",
      "35-th round\n",
      "average train loss 0.693 | test loss 0.000693 | test acc: 0.998 | test prescision: 0.000 | test recall: 0.000 | test f1: 0.000\n"
     ]
    },
    {
     "name": "stderr",
     "output_type": "stream",
     "text": [
      "100%|██████████████████████████████████████████████████████████████████████████████████| 16/16 [00:03<00:00,  4.55it/s]\n",
      "C:\\Users\\DR SAGWE\\anaconda3\\lib\\site-packages\\sklearn\\metrics\\_classification.py:1318: UndefinedMetricWarning: Precision is ill-defined and being set to 0.0 due to no predicted samples. Use `zero_division` parameter to control this behavior.\n",
      "  _warn_prf(average, modifier, msg_start, len(result))\n"
     ]
    },
    {
     "name": "stdout",
     "output_type": "stream",
     "text": [
      "\n",
      "[[7983    0]\n",
      " [  17    0]]\n",
      "36-th round\n",
      "average train loss 0.693 | test loss 0.000693 | test acc: 0.998 | test prescision: 0.000 | test recall: 0.000 | test f1: 0.000\n"
     ]
    },
    {
     "name": "stderr",
     "output_type": "stream",
     "text": [
      "100%|██████████████████████████████████████████████████████████████████████████████████| 16/16 [00:07<00:00,  2.03it/s]\n",
      "C:\\Users\\DR SAGWE\\anaconda3\\lib\\site-packages\\sklearn\\metrics\\_classification.py:1318: UndefinedMetricWarning: Precision is ill-defined and being set to 0.0 due to no predicted samples. Use `zero_division` parameter to control this behavior.\n",
      "  _warn_prf(average, modifier, msg_start, len(result))\n"
     ]
    },
    {
     "name": "stdout",
     "output_type": "stream",
     "text": [
      "\n",
      "[[7983    0]\n",
      " [  17    0]]\n",
      "37-th round\n",
      "average train loss 0.693 | test loss 0.000693 | test acc: 0.998 | test prescision: 0.000 | test recall: 0.000 | test f1: 0.000\n"
     ]
    },
    {
     "name": "stderr",
     "output_type": "stream",
     "text": [
      "100%|██████████████████████████████████████████████████████████████████████████████████| 16/16 [00:09<00:00,  1.74it/s]\n",
      "C:\\Users\\DR SAGWE\\anaconda3\\lib\\site-packages\\sklearn\\metrics\\_classification.py:1318: UndefinedMetricWarning: Precision is ill-defined and being set to 0.0 due to no predicted samples. Use `zero_division` parameter to control this behavior.\n",
      "  _warn_prf(average, modifier, msg_start, len(result))\n"
     ]
    },
    {
     "name": "stdout",
     "output_type": "stream",
     "text": [
      "\n",
      "[[7983    0]\n",
      " [  17    0]]\n",
      "38-th round\n",
      "average train loss 0.693 | test loss 0.000693 | test acc: 0.998 | test prescision: 0.000 | test recall: 0.000 | test f1: 0.000\n"
     ]
    },
    {
     "name": "stderr",
     "output_type": "stream",
     "text": [
      "100%|██████████████████████████████████████████████████████████████████████████████████| 16/16 [00:03<00:00,  4.07it/s]\n",
      "C:\\Users\\DR SAGWE\\anaconda3\\lib\\site-packages\\sklearn\\metrics\\_classification.py:1318: UndefinedMetricWarning: Precision is ill-defined and being set to 0.0 due to no predicted samples. Use `zero_division` parameter to control this behavior.\n",
      "  _warn_prf(average, modifier, msg_start, len(result))\n"
     ]
    },
    {
     "name": "stdout",
     "output_type": "stream",
     "text": [
      "\n",
      "[[7983    0]\n",
      " [  17    0]]\n",
      "39-th round\n",
      "average train loss 0.693 | test loss 0.000693 | test acc: 0.998 | test prescision: 0.000 | test recall: 0.000 | test f1: 0.000\n"
     ]
    },
    {
     "name": "stderr",
     "output_type": "stream",
     "text": [
      "100%|██████████████████████████████████████████████████████████████████████████████████| 16/16 [00:03<00:00,  4.28it/s]\n"
     ]
    },
    {
     "name": "stdout",
     "output_type": "stream",
     "text": [
      "\n",
      "[[7982    1]\n",
      " [  17    0]]\n",
      "40-th round\n",
      "average train loss 0.693 | test loss 0.000693 | test acc: 0.998 | test prescision: 0.000 | test recall: 0.000 | test f1: 0.000\n"
     ]
    },
    {
     "name": "stderr",
     "output_type": "stream",
     "text": [
      "100%|██████████████████████████████████████████████████████████████████████████████████| 16/16 [00:03<00:00,  4.27it/s]\n",
      "C:\\Users\\DR SAGWE\\anaconda3\\lib\\site-packages\\sklearn\\metrics\\_classification.py:1318: UndefinedMetricWarning: Precision is ill-defined and being set to 0.0 due to no predicted samples. Use `zero_division` parameter to control this behavior.\n",
      "  _warn_prf(average, modifier, msg_start, len(result))\n"
     ]
    },
    {
     "name": "stdout",
     "output_type": "stream",
     "text": [
      "\n",
      "[[7983    0]\n",
      " [  17    0]]\n",
      "41-th round\n",
      "average train loss 0.693 | test loss 0.000693 | test acc: 0.998 | test prescision: 0.000 | test recall: 0.000 | test f1: 0.000\n"
     ]
    },
    {
     "name": "stderr",
     "output_type": "stream",
     "text": [
      "100%|██████████████████████████████████████████████████████████████████████████████████| 16/16 [00:05<00:00,  2.95it/s]\n"
     ]
    },
    {
     "name": "stdout",
     "output_type": "stream",
     "text": [
      "\n",
      "[[7982    1]\n",
      " [  17    0]]\n",
      "42-th round\n",
      "average train loss 0.693 | test loss 0.000693 | test acc: 0.998 | test prescision: 0.000 | test recall: 0.000 | test f1: 0.000\n"
     ]
    },
    {
     "name": "stderr",
     "output_type": "stream",
     "text": [
      "100%|██████████████████████████████████████████████████████████████████████████████████| 16/16 [00:03<00:00,  4.34it/s]\n"
     ]
    },
    {
     "name": "stdout",
     "output_type": "stream",
     "text": [
      "\n",
      "[[7982    1]\n",
      " [  17    0]]\n",
      "43-th round\n",
      "average train loss 0.693 | test loss 0.000693 | test acc: 0.998 | test prescision: 0.000 | test recall: 0.000 | test f1: 0.000\n"
     ]
    },
    {
     "name": "stderr",
     "output_type": "stream",
     "text": [
      "100%|██████████████████████████████████████████████████████████████████████████████████| 16/16 [00:07<00:00,  2.06it/s]\n"
     ]
    },
    {
     "name": "stdout",
     "output_type": "stream",
     "text": [
      "\n",
      "[[7980    3]\n",
      " [  17    0]]\n",
      "44-th round\n",
      "average train loss 0.693 | test loss 0.000693 | test acc: 0.998 | test prescision: 0.000 | test recall: 0.000 | test f1: 0.000\n"
     ]
    },
    {
     "name": "stderr",
     "output_type": "stream",
     "text": [
      "100%|██████████████████████████████████████████████████████████████████████████████████| 16/16 [00:04<00:00,  3.88it/s]\n"
     ]
    },
    {
     "name": "stdout",
     "output_type": "stream",
     "text": [
      "\n",
      "[[7980    3]\n",
      " [  17    0]]\n",
      "45-th round\n",
      "average train loss 0.693 | test loss 0.000693 | test acc: 0.998 | test prescision: 0.000 | test recall: 0.000 | test f1: 0.000\n"
     ]
    },
    {
     "name": "stderr",
     "output_type": "stream",
     "text": [
      "100%|██████████████████████████████████████████████████████████████████████████████████| 16/16 [00:04<00:00,  3.75it/s]\n"
     ]
    },
    {
     "name": "stdout",
     "output_type": "stream",
     "text": [
      "\n",
      "[[7982    1]\n",
      " [  17    0]]\n",
      "46-th round\n",
      "average train loss 0.693 | test loss 0.000693 | test acc: 0.998 | test prescision: 0.000 | test recall: 0.000 | test f1: 0.000\n"
     ]
    },
    {
     "name": "stderr",
     "output_type": "stream",
     "text": [
      "100%|██████████████████████████████████████████████████████████████████████████████████| 16/16 [00:04<00:00,  3.98it/s]\n",
      "C:\\Users\\DR SAGWE\\anaconda3\\lib\\site-packages\\sklearn\\metrics\\_classification.py:1318: UndefinedMetricWarning: Precision is ill-defined and being set to 0.0 due to no predicted samples. Use `zero_division` parameter to control this behavior.\n",
      "  _warn_prf(average, modifier, msg_start, len(result))\n"
     ]
    },
    {
     "name": "stdout",
     "output_type": "stream",
     "text": [
      "\n",
      "[[7983    0]\n",
      " [  17    0]]\n",
      "47-th round\n",
      "average train loss 0.693 | test loss 0.000693 | test acc: 0.998 | test prescision: 0.000 | test recall: 0.000 | test f1: 0.000\n"
     ]
    },
    {
     "name": "stderr",
     "output_type": "stream",
     "text": [
      "100%|██████████████████████████████████████████████████████████████████████████████████| 16/16 [00:03<00:00,  4.37it/s]\n"
     ]
    },
    {
     "name": "stdout",
     "output_type": "stream",
     "text": [
      "\n",
      "[[7982    1]\n",
      " [  17    0]]\n",
      "48-th round\n",
      "average train loss 0.693 | test loss 0.000693 | test acc: 0.998 | test prescision: 0.000 | test recall: 0.000 | test f1: 0.000\n"
     ]
    },
    {
     "name": "stderr",
     "output_type": "stream",
     "text": [
      "100%|██████████████████████████████████████████████████████████████████████████████████| 16/16 [00:05<00:00,  3.19it/s]\n"
     ]
    },
    {
     "name": "stdout",
     "output_type": "stream",
     "text": [
      "\n",
      "[[7982    1]\n",
      " [  17    0]]\n",
      "49-th round\n",
      "average train loss 0.693 | test loss 0.000693 | test acc: 0.998 | test prescision: 0.000 | test recall: 0.000 | test f1: 0.000\n",
      "--- 281.23680448532104 seconds ---\n"
     ]
    }
   ],
   "source": [
    "## List containing info about learning\n",
    "losses_train = []\n",
    "losses_test = []\n",
    "acc_train = []\n",
    "acc_test = []\n",
    "# Runnining FL\n",
    "\n",
    "import time\n",
    "start_time = time.time()\n",
    "for r in range(num_rounds):\n",
    "    # select random clients\n",
    "    client_idx = np.random.permutation(num_clients)[:num_selected]\n",
    "    # client update\n",
    "    loss = 0\n",
    "    for i in tqdm(range(num_selected)):\n",
    "        loss += client_update(client_models[i], opt[i], train_loader[client_idx[i]], epoch=epochs)\n",
    "    \n",
    "    losses_train.append(loss)\n",
    "    # server aggregate\n",
    "    server_aggregate(global_model, client_models)\n",
    "    \n",
    "    test_loss, acc, prescision, recall, f1= test(global_model, test_loader)\n",
    "    losses_test.append(test_loss)\n",
    "    acc_test.append(acc)\n",
    "    print('%d-th round' % r)\n",
    "    print('average train loss %0.3g | test loss %0.3g | test acc: %0.3f | test prescision: %0.3f | test recall: %0.3f | test f1: %0.3f' % (loss / num_selected, test_loss, acc, prescision, recall, f1))\n",
    "\n",
    "print(\"--- %s seconds ---\" % (time.time() - start_time))\n",
    "# time[24]['fed'] = (time.time() - start_time)"
   ]
  },
  {
   "cell_type": "code",
   "execution_count": 17,
   "id": "f8951997",
   "metadata": {},
   "outputs": [
    {
     "name": "stdout",
     "output_type": "stream",
     "text": [
      "50\n",
      "50\n"
     ]
    }
   ],
   "source": [
    "print(len(federated_acc))\n",
    "print(len(federated_f1))"
   ]
  },
  {
   "cell_type": "code",
   "execution_count": 18,
   "id": "b86deedf",
   "metadata": {},
   "outputs": [
    {
     "name": "stdout",
     "output_type": "stream",
     "text": [
      "{16: {'fed_acc': [0.996625, 0.997125, 0.997125, 0.997625, 0.997375, 0.997625, 0.9975, 0.997625, 0.997625, 0.997625, 0.99775, 0.9975, 0.997625, 0.997625, 0.997875, 0.997625, 0.997875, 0.99775, 0.997625, 0.997625, 0.99775, 0.99775, 0.99775, 0.997875, 0.997875, 0.997625, 0.997875, 0.997875, 0.997625, 0.997875, 0.99775, 0.99775, 0.997625, 0.997875, 0.997875, 0.99775, 0.997875, 0.997875, 0.997875, 0.997875, 0.99775, 0.997875, 0.99775, 0.99775, 0.9975, 0.9975, 0.99775, 0.997875, 0.99775, 0.99775], 'fed_pre': [0.0, 0.0, 0.0, 0.0, 0.0, 0.0, 0.0, 0.0, 0.0, 0.0, 0.0, 0.0, 0.0, 0.0, 0.0, 0.0, 0.0, 0.0, 0.0, 0.0, 0.0, 0.0, 0.0, 0.0, 0.0, 0.0, 0.0, 0.0, 0.0, 0.0, 0.0, 0.0, 0.0, 0.0, 0.0, 0.0, 0.0, 0.0, 0.0, 0.0, 0.0, 0.0, 0.0, 0.0, 0.0, 0.0, 0.0, 0.0, 0.0, 0.0], 'fed_recall': [0.0, 0.0, 0.0, 0.0, 0.0, 0.0, 0.0, 0.0, 0.0, 0.0, 0.0, 0.0, 0.0, 0.0, 0.0, 0.0, 0.0, 0.0, 0.0, 0.0, 0.0, 0.0, 0.0, 0.0, 0.0, 0.0, 0.0, 0.0, 0.0, 0.0, 0.0, 0.0, 0.0, 0.0, 0.0, 0.0, 0.0, 0.0, 0.0, 0.0, 0.0, 0.0, 0.0, 0.0, 0.0, 0.0, 0.0, 0.0, 0.0, 0.0], 'fed_f1': [0.0, 0.0, 0.0, 0.0, 0.0, 0.0, 0.0, 0.0, 0.0, 0.0, 0.0, 0.0, 0.0, 0.0, 0.0, 0.0, 0.0, 0.0, 0.0, 0.0, 0.0, 0.0, 0.0, 0.0, 0.0, 0.0, 0.0, 0.0, 0.0, 0.0, 0.0, 0.0, 0.0, 0.0, 0.0, 0.0, 0.0, 0.0, 0.0, 0.0, 0.0, 0.0, 0.0, 0.0, 0.0, 0.0, 0.0, 0.0, 0.0, 0.0]}}\n",
      "1\n"
     ]
    }
   ],
   "source": [
    "mp[num_selected] = {'fed_acc': federated_acc, 'fed_pre': federated_pre, 'fed_recall': federated_recall, 'fed_f1': federated_f1}\n",
    "print(mp)\n",
    "print(len(mp))"
   ]
  },
  {
   "cell_type": "code",
   "execution_count": null,
   "id": "52298be6",
   "metadata": {},
   "outputs": [],
   "source": []
  }
 ],
 "metadata": {
  "kernelspec": {
   "display_name": "Python 3 (ipykernel)",
   "language": "python",
   "name": "python3"
  },
  "language_info": {
   "codemirror_mode": {
    "name": "ipython",
    "version": 3
   },
   "file_extension": ".py",
   "mimetype": "text/x-python",
   "name": "python",
   "nbconvert_exporter": "python",
   "pygments_lexer": "ipython3",
   "version": "3.9.15"
  }
 },
 "nbformat": 4,
 "nbformat_minor": 5
}
